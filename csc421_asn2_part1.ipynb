{
 "cells": [
  {
   "cell_type": "markdown",
   "metadata": {},
   "source": [
    "# CSC421 Assignment 2 - Part I  Propositional Logic (5 points) #\n",
    "### Author: George Tzanetakis \n",
    "\n",
    "This notebook is based on the supporting material for topics covered in **Chapter 7 - Logical Agents** from the book *Artificial Intelligence: A Modern Approach.* You can consult and modify the code provided in logic.py and logic.ipynb for completing the assignment questions. This part does NOT rely on the provided code so you can complete it just using basic Python. \n",
    "\n",
    "\n",
    "```\n",
    "Birds can fly, unless they are penguins and ostriches, or if they happen \n",
    "to be dead, or have broken wings, or are confined to cages, or have their \n",
    "feet stuck in cement, or have undergone experiences so dreadful as to render \n",
    "them psychologically incapable of flight \n",
    "\n",
    "Marvin Minsky \n",
    "```"
   ]
  },
  {
   "cell_type": "markdown",
   "metadata": {},
   "source": [
    "# Introduction - Parsing and evaluating prefix logic expressions  \n",
    "\n",
    "In this assignment your task is to incrementally create a parser and evaluator for prefix logic expressions as well as implement simple model checking. **NOTE THAT THE GRADING IN THIS ASSIGNMENT IS DIFFERENT FOR GRADUATE STUDENTS AND THEY HAVE TO DO EXTRA WORK FOR FULL MARKS**\n"
   ]
  },
  {
   "cell_type": "markdown",
   "metadata": {},
   "source": [
    "# Question 1A (Minimum) CSC421 -  (1 point, CSC581C - 0 points) \n",
    "\n",
    "Your first task will be to write a simple evaluator of prefix logic expressions with constants. In prefix notation the operator precedes the operands and no operands are required. For example 5+3 in prefix notation is written + 5 3 or 5 * 2 + 3 would be written + * 5 2 3 or + * 5 2 * 3 4 is equivalent to (5 * 2) + (3 * 4). "
   ]
  },
  {
   "cell_type": "markdown",
   "metadata": {},
   "source": [
    "As a first step we will consider very simple expressions with one operator and two constant operands. We will use 0 for false and 1 for true. The following logical connectives should be implemented (see Figure 7.8 in your book) (notice that for now there is no negation symbol ~): \n",
    "\n",
    "1. &    (and), \n",
    "3. |    (or), \n",
    "4. =>   (implication) \n",
    "5. <=>  (biconditional) \n",
    "\n",
    "Example expressions: \n",
    "```\n",
    "& 1 0  \n",
    "=> 0 1 \n",
    "<=> 1 1 \n",
    "```\n",
    "\n",
    "Your function should take as input a string with the prefix expression and return the result of evaluating the expression (basically a 1 for true and 0 for false). You can split a string to a list using .split[' ']. For this part of the assignment you only evaluate expressions with two constant operands i.e no nested/recursive expressions. "
   ]
  },
  {
   "cell_type": "code",
   "execution_count": null,
   "metadata": {},
   "outputs": [],
   "source": [
    "a = '& 1 0'\n",
    "print(a.split(' '))"
   ]
  },
  {
   "cell_type": "code",
   "execution_count": 4,
   "metadata": {},
   "outputs": [
    {
     "name": "stdout",
     "output_type": "stream",
     "text": [
      "(& 1 0): 0\n",
      "(| 1 0): 1\n",
      "(=> 1 0): 0\n",
      "(<=> 1 0): 0\n",
      "(&): None\n"
     ]
    }
   ],
   "source": [
    "# YOUR CODE GOES HERE \n",
    "def simple_logic_evaluator(input_string):\n",
    "    elements = input_string.split(' ')\n",
    "    if len(elements) < 3:\n",
    "        return None\n",
    "    const1 = str(elements[1])\n",
    "    const2 = str(elements[2])\n",
    "    if elements[0] == '&':\n",
    "        return int(const1 and const2)\n",
    "    elif elements[0] == '|':\n",
    "        return int(const1 or const2)\n",
    "    elif elements[0] == '=>':\n",
    "        return int((not const1) or const2)\n",
    "    elif elements[0] == '<=>':\n",
    "        return int((const1 and const2) or (not const1 and not const2))\n",
    "    else:\n",
    "        return None\n",
    "\n",
    "expr1 = '& 1 0'\n",
    "expr2 = '| 1 0'\n",
    "expr3 = '=> 1 0'\n",
    "expr4 = '<=> 1 0'\n",
    "expr5 = '&'\n",
    "\n",
    "output1 = simple_logic_evaluator(expr1)\n",
    "print(\"(\" + str(expr1) + '): ' + str(output1))\n",
    "output2 = simple_logic_evaluator(expr2)\n",
    "print(\"(\" + str(expr2) + '): ' + str(output2))\n",
    "output3 = simple_logic_evaluator(expr3)\n",
    "print(\"(\" + str(expr3) + '): ' + str(output3))\n",
    "output4 = simple_logic_evaluator(expr4)\n",
    "print(\"(\" + str(expr4) + '): ' + str(output4))\n",
    "output5 = simple_logic_evaluator(expr5)\n",
    "print(\"(\" + str(expr5) + '): ' + str(output5))"
   ]
  },
  {
   "cell_type": "markdown",
   "metadata": {},
   "source": [
    "# Question 1B (Minimum) (CSC421 - 1 point, CSC581C - 0 point) \n",
    "\n",
    "Your next task is to implement variables and bindings for your propositional logic evaluator. In this version in addition to constants (0 and 1) you also can have variables which are strings with associated values provided in a dictionary. You still only consider two operands and one operator (no nesting). For example in the code below \n",
    "the three expressions are equivalent. Your function should take as arguments the expression to be evaluated as a string and the dictionary with the variable bindings. In addition you need to add the ~ (not) operator. To do so for each variable in the dictionary add a not version. For example if 'a' in the dictionary has a value of 1 the '~a' in the dictionary should have a value of 0. Notice that the not symbol is part of the string and NOT separated by a space. \n",
    "\n"
   ]
  },
  {
   "cell_type": "code",
   "execution_count": null,
   "metadata": {},
   "outputs": [],
   "source": [
    "d = {'foo': 0, 'b': 1}\n",
    "print(d)\n",
    "expr1 = '& 0 1'\n",
    "expr2 = '& foo 1'\n",
    "expr3 = '& foo ~b'"
   ]
  },
  {
   "cell_type": "code",
   "execution_count": 5,
   "metadata": {
    "scrolled": true
   },
   "outputs": [
    {
     "name": "stdout",
     "output_type": "stream",
     "text": [
      "(& 0 1): 0\n",
      "(& foo 1): 0\n",
      "(& foo ~b): 0\n",
      "(| foo ~b): 0\n",
      "(=> foo ~b): 1\n",
      "(<=> foo ~b): 1\n",
      "(& foo1 foo): None\n"
     ]
    }
   ],
   "source": [
    "# YOUR CODE GOES HERE \n",
    "\n",
    "def propositional_logic_evaluator(input_string, d):\n",
    "    # add negation elements to the dictionary\n",
    "    for elem in list(d.keys()):\n",
    "        if elem[0] != '~':\n",
    "            d['~'+elem] = int(not d[elem])\n",
    "    # add 0 and 1 to dictionary for cleaner code\n",
    "    d['0'] = 0\n",
    "    d['1'] = 1\n",
    "    \n",
    "    elements = input_string.split(' ')\n",
    "    if len(elements) < 3:\n",
    "        return None\n",
    "    const1 = elements[1]\n",
    "    const2 = elements[2]\n",
    "    if const1 not in d or const2 not in d:\n",
    "        return None\n",
    "    if elements[0] == '&':\n",
    "        return int(d[const1] and d[const2])\n",
    "    elif elements[0] == '|':\n",
    "        return int(d[const1] or d[const2])\n",
    "    elif elements[0] == '=>':\n",
    "        return int(not d[const1] or d[const2])\n",
    "    elif elements[0] == '<=>':\n",
    "        return int((d[const1] and d[const2]) or (not d[const1] and not d[const2]))\n",
    "    else:\n",
    "        return None\n",
    "\n",
    "d = {'foo': 0, 'b': 1}\n",
    "expr1 = '& 0 1'\n",
    "expr2 = '& foo 1'\n",
    "expr3 = '& foo ~b'\n",
    "expr4 = '| foo ~b'\n",
    "expr5 = '=> foo ~b'\n",
    "expr6 = '<=> foo ~b'\n",
    "expr7 = '& foo1 foo'\n",
    "output = propositional_logic_evaluator(expr1, d)\n",
    "print('(' + str(expr1) + '): ' + str(output))\n",
    "output = propositional_logic_evaluator(expr2, d)\n",
    "print('(' + str(expr2) + '): ' + str(output))\n",
    "output = propositional_logic_evaluator(expr3, d)\n",
    "print('(' + str(expr3) + '): ' + str(output))\n",
    "output = propositional_logic_evaluator(expr4, d)\n",
    "print('(' + str(expr4) + '): ' + str(output))\n",
    "output = propositional_logic_evaluator(expr5, d)\n",
    "print('(' + str(expr5) + '): ' + str(output))\n",
    "output = propositional_logic_evaluator(expr6, d)\n",
    "print('(' + str(expr6) + '): ' + str(output))\n",
    "output = propositional_logic_evaluator(expr7, d)\n",
    "print('(' + str(expr7) + '): ' + str(output))"
   ]
  },
  {
   "cell_type": "markdown",
   "metadata": {},
   "source": [
    "# Question 1C (Expected) 1 point \n",
    "\n",
    "\n",
    "The following code is a recursive evaluator for prefix arithmetic expressions. It assumes that there are always two operands either an integer or a prefix expression starting with an operator (addition or multiplication). It is a good idea to go through this function carefully by hand to understand how the recursion works. \n",
    "\n",
    "Informed by your understanding of the arithmetic recursive_eval function your task is to write function to implement a recursive prefix logic evaluator. Your evaluator should also support variables bindings using a dictionary as in the previous question. \n",
    "\n",
    "Example expressions: \n",
    "```\n",
    "& 1 & 1 a   \n",
    "=> 0 & b ~alice  \n",
    "<=> foo 1 \n",
    "```"
   ]
  },
  {
   "cell_type": "code",
   "execution_count": null,
   "metadata": {},
   "outputs": [],
   "source": [
    "def recursive_eval(l):\n",
    "    head, tail = l[0], l[1:]\n",
    "    if head in ['+', '*']: \n",
    "        val1, tail = recursive_eval(tail)\n",
    "        val2, tail = recursive_eval(tail)\n",
    "        if head == '+': \n",
    "            return (int(val1)+int(val2), tail)\n",
    "        elif head == '*':  \n",
    "            return (int(val1)*int(val2), tail)\n",
    "    # operator is a number \n",
    "    else:  \n",
    "        return (int(head),tail)\n",
    "\n",
    "def prefix_eval(input_str): \n",
    "    input_list = input_str.split(' ')\n",
    "    res, tail = recursive_eval(input_list)\n",
    "    return res\n",
    "\n",
    "print(prefix_eval('1'))\n",
    "print(prefix_eval('+ 1 2'))\n",
    "print(prefix_eval('+ 1 * 2 3'))\n",
    "print(prefix_eval('+ * 5 2 * 3 + 1 5'))"
   ]
  },
  {
   "cell_type": "code",
   "execution_count": 6,
   "metadata": {
    "scrolled": true
   },
   "outputs": [
    {
     "name": "stdout",
     "output_type": "stream",
     "text": [
      "(& 0 1): 0\n",
      "(& | b ~b | ~foo foo): 1\n",
      "(& | 1 0 | ~foo foo): 1\n",
      "(<=> | b ~b & 1 1): 1\n",
      "(=> | 1 0 & 1 1): 1\n"
     ]
    }
   ],
   "source": [
    "# YOUR CODE GOES HERE \n",
    "    \n",
    "def recursive_eval(elements,d):\n",
    "    head,tail = elements[0],elements[1:]\n",
    "    if head in ['&','|','=>','<=>']:  # head element is an operator\n",
    "        const1,tail = recursive_eval(tail,d)\n",
    "        const2,tail = recursive_eval(tail,d)\n",
    "        if head == '&':\n",
    "            return (str(int(d[const1] and d[const2])),tail)\n",
    "        elif head == '|':\n",
    "            return (str(int(d[const1] or d[const2])),tail)\n",
    "        elif head == '=>':\n",
    "            return (str(int(not d[const1] or d[const2])),tail)\n",
    "        elif head == '<=>':\n",
    "            return (str(int((d[const1] and d[const2]) or (not d[const1] and not d[const2]))),tail)\n",
    "    else:  # head element is a variable\n",
    "        return (str(d[head]),tail)\n",
    "        \n",
    "    \n",
    "def prefix_eval(input_string,d):\n",
    "    # add negation elements to the dictionary\n",
    "    for elem in list(d.keys()):\n",
    "        if elem[0] != '~':\n",
    "            d['~'+elem] = int(not d[elem])\n",
    "    # add 0 and 1 to dictionary for cleaner code\n",
    "    d['0'] = 0\n",
    "    d['1'] = 1\n",
    "    \n",
    "    elements = input_string.split(' ')\n",
    "    res,tail = recursive_eval(elements,d)\n",
    "    return int(res)\n",
    "    \n",
    "\n",
    "d = {'foo': 0, 'b': 1}\n",
    "expr1 = '& 0 1' # false\n",
    "expr2 = '& | b ~b | ~foo foo' # (b | ~b) & (~foo | foo) = true\n",
    "expr3 = '& | 1 0 | ~foo foo' # (b | ~b) & (~foo | foo) = true\n",
    "expr4 = '<=> | b ~b & 1 1'  # (1 | 0) <=> (1 & 1) = true\n",
    "expr5 = '=> | 1 0 & 1 1'  # (1|0) => (1&1) = true\n",
    "output = prefix_eval(expr1,d)\n",
    "print('(' + str(expr1) + '): ' + str(output))\n",
    "output = prefix_eval(expr2,d)\n",
    "print('(' + str(expr2) + '): ' + str(output))\n",
    "output = prefix_eval(expr3,d)\n",
    "print('(' + str(expr3) + '): ' + str(output))\n",
    "output = prefix_eval(expr4,d)\n",
    "print('(' + str(expr4) + '): ' + str(output))\n",
    "output = prefix_eval(expr5,d)\n",
    "print('(' + str(expr5) + '): ' + str(output))"
   ]
  },
  {
   "cell_type": "markdown",
   "metadata": {},
   "source": [
    "# QUESTION 1D (EXPECTED) 1 point"
   ]
  },
  {
   "cell_type": "markdown",
   "metadata": {},
   "source": [
    "\n",
    "Using the recursive prefix evaluator you defined in the previous question \n",
    "answer the following question (you will need to convert the exressions below \n",
    "to prefix). You can use multiple string assignments to assemble more complicated \n",
    "sentences into one big string: \n",
    "\n",
    "\n",
    "Let A be the formula: \n",
    "\n",
    "\\begin{equation} \n",
    "  (( p_{1} \\rightarrow (p2 \\land p_{3})) \\land ((\\neg p_{1})\n",
    "  \\rightarrow (p_{3} \\land p_{4})))\n",
    "\\end{equation} \n",
    "\n",
    "Let B be the formula: \n",
    "\n",
    "\\begin{equation} \n",
    "  (( p_{3} \\rightarrow (\\neg p_{6})) \\land ((\\neg\n",
    "  p_{3}) \\rightarrow (p_{4} \\rightarrow p_{1})))  \n",
    "\\end{equation} \n",
    "\n",
    "Let C be the formula: \n",
    "\n",
    "\\begin{equation} \n",
    "  ((\\neg(p2 \\land p_{5})) \\land (p2 \\rightarrow p_{5})) \n",
    "\\end{equation} \n",
    "\n",
    "Let D be the formula: \n",
    "\n",
    "\\begin{equation} \n",
    "  (\\neg (p_{3} \\rightarrow p_{6}))\n",
    "\\end{equation} \n",
    "\n",
    "Evaluate the formulate E: \n",
    "\\begin{equation} \n",
    "  (( A \\land (B \\land C)) \\rightarrow D)\n",
    "\\end{equation} \n",
    "\n",
    "under the true assignment $I_{1}$, where $I_{1}(p_{1}) = I_{1}(p_{3}) = I_{1}(p_{5}) = false$ \n",
    "and $I_{1}(p2) = I_{1}(p_{4}) = I_{1}(p_{6}) = true$ as well as under the truth assignment \n",
    "$I_{2}$, where $I_{2}(p_{1}) = I_{2}(p_{3}) = I_{2}(p_{5}) = true$ and\n",
    "$I_{2}(p_{2})=I_{2}(p_{4})=I_{2}(p_{6}) = false$. \n"
   ]
  },
  {
   "cell_type": "code",
   "execution_count": 7,
   "metadata": {},
   "outputs": [
    {
     "name": "stdout",
     "output_type": "stream",
     "text": [
      "A for d1: 0\n",
      "A for d2: 0\n",
      "B for d1: 0\n",
      "B for d2: 1\n",
      "C for d1: 0\n",
      "C for d2: 1\n",
      "D for d1: 1\n",
      "D for d2: 0\n",
      "E for d1: 1\n",
      "E for d2: 1\n"
     ]
    }
   ],
   "source": [
    "# YOUR CODE GOES HERE\n",
    "\n",
    "# A = ( p1=>(p2&p3) ) & ( ~p1=>(p3&p4) )\n",
    "# B = (p3=>~p6) & ( ~p3=>(p4=>p1) )\n",
    "# C = ~(p2&p5) & (p2=>p5)\n",
    "# D = ~(p3=>p6) = ~p3 | p6\n",
    "# E = (A&B&C)=>D\n",
    "\n",
    "# I1: {p1,p3,p5} = false, {p2,p4,p6} = true\n",
    "# I2: {p1,p3,p5} = true, {p2,p4,p6} = false\n",
    "\n",
    "d1 = {'p1':0, 'p2':1, 'p3':0, 'p4':1, 'p5':0, 'p6':1}\n",
    "d2 = {'p1':1, 'p2':0, 'p3':1, 'p4':0, 'p5':1, 'p6':0}\n",
    "\n",
    "# A for case 1: 0\n",
    "# A for case 2: 0\n",
    "A = '& => p1 & p2 p3 => ~p1 & p3 p4'\n",
    "output = prefix_eval(A,d1)\n",
    "print('A for d1: ' + str(output))\n",
    "output = prefix_eval(A,d2)\n",
    "print('A for d2: ' + str(output))\n",
    "# B for case 1: 1&(1=>(0)) = 0\n",
    "# B for case 2: 1&(0=>(1)) = 1\n",
    "B = '& => p3 ~p6 => ~p3 => p4 p1'\n",
    "output = prefix_eval(B,d1)\n",
    "print('B for d1: ' + str(output))\n",
    "output = prefix_eval(B,d2)\n",
    "print('B for d2: ' + str(output))\n",
    "# C for case 1: 1&0 = 0\n",
    "# C for case 2: 1&1 = 1\n",
    "C = '& | ~p2 ~p5 => p2 p5'\n",
    "output = prefix_eval(C,d1)\n",
    "print('C for d1: ' + str(output))\n",
    "output = prefix_eval(C,d2)\n",
    "print('C for d2: ' + str(output))\n",
    "# D for case 1: 1\n",
    "# D for case 2: 0\n",
    "D = '| ~p3 p6'\n",
    "output = prefix_eval(D,d1)\n",
    "print('D for d1: ' + str(output))\n",
    "output = prefix_eval(D,d2)\n",
    "print('D for d2: ' + str(output))\n",
    "\n",
    "# E = (A&B&C)=>D = '=> & A & B C D'\n",
    "# Case 1 should be: 1\n",
    "# Case 2 should be: 1\n",
    "E = '=> & ' + A + ' & ' + B + ' ' + D + ' ' + D\n",
    "output = prefix_eval(E,d1)\n",
    "print('E for d1: ' + str(output))\n",
    "output = prefix_eval(E,d2)\n",
    "print('E for d2: ' + str(output))\n"
   ]
  },
  {
   "cell_type": "markdown",
   "metadata": {},
   "source": [
    "# QUESTION 1E (ADVANCED) 1 point \n",
    "\n",
    "Implement inference using model-checking using your prefix recursive evaluator to decide whether a knowledge base KB entais some sentence a. To do so express the knowledge base in the prefix notation, enumerate all models for the variables in the dictionary, and check that the sentence a is true in every model in which the KB is true. \n",
    "\n",
    "You can check the implementation to tt_entails in logic.ipynb in the aima_python repository to inform how you implement your solution. Your solution should NOT rely directly on any code in logic.py or logic.ipynb. \n",
    "\n",
    "Check your model checking using the examples that are used in logic.ipynb to check entailment (there are a few with P and Q as variables as well as the one with A, B, C, D, E, F, G. You will need to convert these examples to prefix notation. \n"
   ]
  },
  {
   "cell_type": "code",
   "execution_count": 8,
   "metadata": {},
   "outputs": [
    {
     "name": "stdout",
     "output_type": "stream",
     "text": [
      "(& P Q) entails (Q): 1\n",
      "(| P Q) entails (Q): 0\n",
      "(| P Q) entails (P): 0\n",
      "(& & A & | B C D & E & ~F ~G) entails (& & A & D E & ~F ~G): 1\n"
     ]
    }
   ],
   "source": [
    "# YOUR CODE GOES HERE \n",
    "\n",
    "from utils import extend\n",
    "\n",
    "def check_entails(KB,a):\n",
    "    logic_symbols = ['&','|','=>','<=>']\n",
    "    elements = KB.split(' ')\n",
    "    kb_symbols = [x for x in elements if x not in logic_symbols and x[0]!='~'] + [x[1:] for x in elements if x[0]=='~']\n",
    "    elements = a.split(' ')\n",
    "    a_symbols = [x for x in elements if x not in logic_symbols and x[0]!='~'] + [x[1:] for x in elements if x[0]=='~']\n",
    "    symbols = list(set(kb_symbols + a_symbols))\n",
    "    return check_all_models(KB, a, symbols, {})\n",
    "    \n",
    "def check_all_models(KB,a,symbols,model):\n",
    "    if not symbols:\n",
    "        if prefix_eval(KB,model) == 1:\n",
    "            result = prefix_eval(a,model)\n",
    "            return result\n",
    "        else:\n",
    "            return 1\n",
    "    else:\n",
    "        P,rest = symbols[0],symbols[1:]\n",
    "        d1 = model.copy()\n",
    "        d1[P] = 0\n",
    "        d2 = model.copy()\n",
    "        d2[P] = 1\n",
    "        o1 = check_all_models(KB,a,rest,d1)\n",
    "        o2 = check_all_models(KB,a,rest,d2)\n",
    "        return o1 and o2\n",
    "        \n",
    "# tt_entails(P & Q, Q) --> true\n",
    "KB = '& P Q'\n",
    "a = 'Q'\n",
    "output = check_entails(KB,a)\n",
    "print('(' + str(KB) + ') entails (' + str(a) + '): ' + str(output))\n",
    "\n",
    "# tt_entails(P | Q, Q) --> false\n",
    "KB = '| P Q'\n",
    "a = 'Q'\n",
    "output = check_entails(KB,a)\n",
    "print('(' + str(KB) + ') entails (' + str(a) + '): ' + str(output))\n",
    "\n",
    "# tt_entails(P | Q, P) --> false\n",
    "KB = '| P Q'\n",
    "a = 'P'\n",
    "output = check_entails(KB,a)\n",
    "print('(' + str(KB) + ') entails (' + str(a) + '): ' + str(output))\n",
    "\n",
    "# tt_entails(A & (B | C) & D & E & ~(F | G), A & D & E & ~F & ~G) --> true\n",
    "KB = '& & A & | B C D & E & ~F ~G'\n",
    "a = '& & A & D E & ~F ~G'\n",
    "output = check_entails(KB,a)\n",
    "print('(' + str(KB) + ') entails (' + str(a) + '): ' + str(output))\n",
    "\n"
   ]
  },
  {
   "cell_type": "markdown",
   "metadata": {},
   "source": [
    "# QUESTION 1F (ADVANCED) (CSC421 - 0 points, CSC581C - 1 point)\n",
    "\n",
    "Implement conversion of the prefix expressions to prefix conjuctive normal form (CNF) based on the recursive evaluator you have implemented. "
   ]
  },
  {
   "cell_type": "code",
   "execution_count": null,
   "metadata": {},
   "outputs": [],
   "source": [
    "# YOUR CODE GOES HERE "
   ]
  },
  {
   "cell_type": "markdown",
   "metadata": {},
   "source": [
    "# QUESTION 1E (ADVANCED) (CSC421 - 0 POINTS, CSC581C 1 point)\n",
    "\n",
    "Based on the recursive evaluator you have implemented do a conversion of expressions in prefix notation to the infix notation of expressions supported by logic.ipynb. Provide 4 test cases that demonstrate the the conversion works by confirming that the result of your evaluator and the logic.ipynb evaluator are the same. "
   ]
  },
  {
   "cell_type": "code",
   "execution_count": null,
   "metadata": {},
   "outputs": [],
   "source": [
    "# YOUR CODE GOES HERE "
   ]
  }
 ],
 "metadata": {
  "kernelspec": {
   "display_name": "Python 3",
   "language": "python",
   "name": "python3"
  },
  "language_info": {
   "codemirror_mode": {
    "name": "ipython",
    "version": 3
   },
   "file_extension": ".py",
   "mimetype": "text/x-python",
   "name": "python",
   "nbconvert_exporter": "python",
   "pygments_lexer": "ipython3",
   "version": "3.7.3"
  }
 },
 "nbformat": 4,
 "nbformat_minor": 1
}
