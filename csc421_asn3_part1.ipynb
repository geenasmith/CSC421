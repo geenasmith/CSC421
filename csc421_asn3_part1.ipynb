{
 "cells": [
  {
   "attachments": {
    "monopoly.jpeg": {
     "image/jpeg": "[encoded data removed]"
    }
   },
   "cell_type": "markdown",
   "metadata": {},
   "source": [
    "# CSC421 Assignment 3 - Part I  Simulation and Probabilities (5 points) #\n",
    "### Author: George Tzanetakis \n",
    "\n",
    "This notebook is based on the supporting material for topics covered in **Chapter 13 Quantifying Uncertainty** from the book *Artificial Intelligence: A Modern Approach.* This part does NOT rely on the provided code so you can complete it just using basic Python. \n",
    "\n",
    "```\n",
    "Misunderstanding of probability may be the greatest of all impediments\n",
    "to scientific literacy.\n",
    "\n",
    "Gould, Stephen Jay\n",
    "```\n",
    "\n",
    "![monopoly.jpeg](attachment:monopoly.jpeg)\n"
   ]
  },
  {
   "cell_type": "markdown",
   "metadata": {},
   "source": [
    "# Introduction - Simulation for approximate estimation of probabilities \n",
    "\n",
    "In this assignment your task is to incrementally create a simulation for the board game Monopoly\n",
    "https://en.wikipedia.org/wiki/Monopoly_(game). Very interesting origin story for the game: \n",
    "https://www.saturdayeveningpost.com/2017/09/really-invented-monopoly/\n",
    "\n",
    "\n",
    "**NOTE THAT THE GRADING IN THIS ASSIGNMENT IS DIFFERENT FOR GRADUATE STUDENTS AND THEY HAVE TO DO EXTRA WORK FOR FULL MARKS**\n",
    "\n",
    "Consider simulating a game of Monopoly. Your goal is to experimentally determine the cummulative probability of landing on each square following the rules of the game after 100 moves. By cummulative I mean the total\n",
    "number of times you land on a square during a play. So for example if you land on the Free Parking square 5 times during the 100 moves in a particular run of the simulation then the probability of landing on that square is 5/100.\n",
    "\n",
    "To get accurate probabilities you will have to run 1000 simulated games. You can assume that you are only a considering a single player and you ignore buying/selling property. You will need to simulate chance cards, rolling the dice including doubles, and going to jail. The following article has some\n",
    "information you can use in your simulation http://www.businessinsider.com/math-monopoly-statistics-2013-6.\n",
    "\n",
    "You can use the random variables and probability notebook code we covered in class or directly implement the random sampling to simulate playing the Monopoly game 1000 times and show on a table what is the probability of landing in each railway station, the GO square, Mediterenean Avenue and Boardwalk. The questions below break this problem into incremental steps. \n"
   ]
  },
  {
   "cell_type": "markdown",
   "metadata": {},
   "source": [
    "# Question 1A (Minimum) CSC421 -  (1 point, CSC581C - 0 points) \n",
    "\n",
    "Write code to generate random numbers corresponding to rolling a pair of dice and summing the output taking into account the doubling rule (when you roll doubles you get to roll again). Include all the code with comments describing what you are doing. "
   ]
  },
  {
   "cell_type": "code",
   "execution_count": 1,
   "metadata": {},
   "outputs": [
    {
     "name": "stdout",
     "output_type": "stream",
     "text": [
      "sum of dice: 10\n"
     ]
    }
   ],
   "source": [
    "# YOUR CODE GOES HERE \n",
    "\n",
    "from random import *\n",
    "\n",
    "def rollDice():\n",
    "    rollsums = 0\n",
    "    rolledDouble = False\n",
    "    \n",
    "    dice1 = randint(1,6) # roll first dice\n",
    "    dice2 = randint(1,6) # roll second dice\n",
    "    \n",
    "    rollsums = dice1 + dice2 # sum the result\n",
    "    \n",
    "    if dice1 == dice2:\n",
    "        rolledDouble = True\n",
    "        rollsums += randint(1,6) # if the first and second are the same, roll a third time and add to sum\n",
    "    \n",
    "    return rollsums, rolledDouble # return the sum and if a double was rolled or not (for use later)\n",
    "\n",
    "\n",
    "totalsum, rolledDouble = rollDice()\n",
    "print(\"sum of dice: \" + str(totalsum))\n"
   ]
  },
  {
   "cell_type": "markdown",
   "metadata": {},
   "source": [
    "# Question 1B (Minimum) (CSC421 - 1 point, CSC581C - 0 point) \n",
    "\n",
    "Write code for selecting a chance card at random based on the information provided in the article about the math of Monopoly. The chance cards that are not about movement will be ignored in this assignment but you should still \n",
    "simulate them. "
   ]
  },
  {
   "cell_type": "code",
   "execution_count": 5,
   "metadata": {
    "scrolled": true
   },
   "outputs": [
    {
     "name": "stdout",
     "output_type": "stream",
     "text": [
      "collect $150\n"
     ]
    }
   ],
   "source": [
    "# YOUR CODE GOES HERE \n",
    "\n",
    "def selectChance():\n",
    "    cardVal = randint(1,16)\n",
    "    chanceCard = None\n",
    "    \n",
    "    # 16 possible chance cards, each with equal probability of being drawn\n",
    "    if cardVal == 1:\n",
    "        chanceCard = \"advance to GO\"\n",
    "    elif cardVal == 2:\n",
    "        chanceCard = \"advance to Illinois Ave\"\n",
    "    elif cardVal == 3:\n",
    "        chanceCard = \"advance to St. Charles Place\"\n",
    "    elif cardVal == 4:\n",
    "        chanceCard = \"advance to nearest Utility\"\n",
    "    elif cardVal == 5:\n",
    "        chanceCard = \"advance to nearest Railroad\"\n",
    "    elif cardVal == 6:\n",
    "        chanceCard = \"advance to Reading Railroad\"\n",
    "    elif cardVal == 7:\n",
    "        chanceCard = \"advance to Boardwalk\"\n",
    "    elif cardVal == 8:\n",
    "        chanceCard = \"advance to jail\"\n",
    "    elif cardVal == 9:\n",
    "        chanceCard = \"move back 3 spaces\"\n",
    "    elif cardVal == 10:\n",
    "        chanceCard = \"pay $25 for each house, $100 for each hotel\"\n",
    "    elif cardVal == 11:\n",
    "        chanceCard = \"pay poor tax of $15\"\n",
    "    elif cardVal == 12:\n",
    "        chanceCard = \"pay each player $50\"\n",
    "    elif cardVal == 13:\n",
    "        chanceCard = \"out of jail free\"\n",
    "    elif cardVal == 14:\n",
    "        chanceCard = \"collect $50\"\n",
    "    elif cardVal == 15:\n",
    "        chanceCard = \"collect $100\"\n",
    "    elif cardVal == 16:\n",
    "        chanceCard = \"collect $150\"\n",
    "    else:  # shouldnt get here\n",
    "        cardVal = None\n",
    "    \n",
    "    return chanceCard\n",
    "\n",
    "card = selectChance()\n",
    "print(card)"
   ]
  },
  {
   "cell_type": "markdown",
   "metadata": {},
   "source": [
    "# Question 1C (Expected) 1 point \n",
    "\n",
    "Write code to simulate movement around the board for one player with rolling pair of dice as well as the doubling rule. For this question you don't need to simulate go to jail and chance cards (you will do that in the next question) \n"
   ]
  },
  {
   "cell_type": "code",
   "execution_count": 7,
   "metadata": {
    "scrolled": true
   },
   "outputs": [
    {
     "name": "stdout",
     "output_type": "stream",
     "text": [
      "final location: 38\n"
     ]
    }
   ],
   "source": [
    "# YOUR CODE GOES HERE \n",
    "\n",
    "import numpy as np\n",
    "\n",
    "def simulateMovement(numMoves):\n",
    "    location = 0  # start at go\n",
    "    \n",
    "    countArr = np.zeros(40)\n",
    "    countArr[0] = 1. # start at go, position 0\n",
    "    \n",
    "    for n in range(0,numMoves):\n",
    "        rollResult, rolledDouble = rollDice()\n",
    "        newPos = (location + rollResult) % 40\n",
    "        countArr[newPos] += 1\n",
    "        location = newPos\n",
    "    \n",
    "    return location,countArr\n",
    "    \n",
    "location,countArr = simulateMovement(5)\n",
    "print(\"final location: \" + str(location))"
   ]
  },
  {
   "cell_type": "markdown",
   "metadata": {},
   "source": [
    "# QUESTION 1D (EXPECTED) 1 point"
   ]
  },
  {
   "cell_type": "markdown",
   "metadata": {},
   "source": [
    "Add the code for go to jail and chance cards. Record how many times you land on\n",
    "each square after playing a game consisting of 100 moves. Run the simulation 1000 times \n",
    "and average the landing results. Show in a table the following probabilities: each railway station, the GO square, Mediterenean Avenue and Boardwalk.\n",
    "\n"
   ]
  },
  {
   "cell_type": "code",
   "execution_count": 8,
   "metadata": {},
   "outputs": [
    {
     "name": "stdout",
     "output_type": "stream",
     "text": [
      "Location:                 | Probability\n",
      "--------------------------|--------------\n",
      "Reading Railroad          | 0.031680\n",
      "Pensylvania Railroad      | 0.025260\n",
      "B&O Railroad              | 0.026100\n",
      "Short Line                | 0.026430\n",
      "GO Square                 | 0.028750\n",
      "Mediterenean Avenue       | 0.023140\n",
      "Boardwalk                 | 0.028380\n"
     ]
    }
   ],
   "source": [
    "# YOUR CODE GOES HERE\n",
    "\n",
    "\"\"\"\n",
    "Note: This is assuming we only increment the final position for each turn, \n",
    "and starting at GO does not cause an increment\n",
    "\"\"\"\n",
    "\n",
    "def simulateMovement(numMoves):\n",
    "    location = 0  # start at go\n",
    "    \n",
    "#   to get out of jail, need to either roll a double, or roll for 3 turns\n",
    "    inJail = False\n",
    "    numJailRolls = 0\n",
    "    \n",
    "    chances = [7,22,36]\n",
    "    \n",
    "    # dict of the chance cards associated with movement, and the locations\n",
    "    movementCards = {\"advance to GO\":[0],\n",
    "                     \"advance to Illinois Ave\":[24],\n",
    "                     \"advance to St. Charles Place\":[11],\n",
    "                     \"advance to nearest Utility\":[12,28],\n",
    "                     \"advance to nearest Railroad\":[5,15,25,35],\n",
    "                     \"advance to Reading Railroad\":[5],\n",
    "                     \"advance to Boardwalk\":[39],\n",
    "                     \"advance to jail\":[],\n",
    "                     \"move back 3 spaces\":[]}\n",
    "     \n",
    "    countArr = np.zeros(40)\n",
    "    \n",
    "    for n in range(0,numMoves):\n",
    "        rollResult, rolledDouble = rollDice()\n",
    "        \n",
    "        # if in jail, get out by either rolling a double or waiting 3 turns\n",
    "        if inJail:\n",
    "            if rolledDouble or numJailRolls == 3:\n",
    "                inJail = False\n",
    "                numJailRolls = 0\n",
    "            else:\n",
    "                numJailRolls += 1\n",
    "                countArr[newPos] += 1\n",
    "                continue\n",
    "            None\n",
    "        \n",
    "        newPos = (location + rollResult) % 40\n",
    "        \n",
    "#       landed on a chance. need to roll and adjust movement.\n",
    "        if newPos in chances:\n",
    "            card = selectChance()\n",
    "            \n",
    "            if card in movementCards.keys():\n",
    "                movementLoc = movementCards[card]\n",
    "                if len(movementLoc) == 1:\n",
    "                    newPos = movementLoc[0]\n",
    "                elif card == \"advance to nearest Utility\":\n",
    "                    # nearest utility will never require moving back past go, so dont need to adjust vals\n",
    "                    newPos = movementLoc[min(range(len(movementLoc)), key = lambda i: abs(movementLoc[i]-newPos))]\n",
    "                elif card == \"advance to nearest Railroad\":\n",
    "                    # nearest railroad will never require moving back past go, so dont need to adjust vals\n",
    "                    newPos = movementLoc[min(range(len(movementLoc)), key = lambda i: abs(movementLoc[i]-newPos))]\n",
    "                elif card == \"advance to jail\":\n",
    "                    inJail = True\n",
    "                    newPos = 10\n",
    "                elif card == \"move back 3 spaces\":\n",
    "                    newPos = (40 + newPos - 3) % 40\n",
    "                else:\n",
    "                    print(\"shouldnt be here\")\n",
    "                    \n",
    "        countArr[newPos] += 1 # only increment the final position\n",
    "        location = newPos\n",
    "    \n",
    "    return location,countArr\n",
    "\n",
    "\n",
    "\"\"\"Record how many times you land on each square after playing a game consisting of 100 moves. \n",
    "Run the simulation 1000 times and average the landing results. \n",
    "Show in a table the following probabilities: \n",
    "        each railway station, the GO square, Mediterenean Avenue and Boardwalk.\"\"\"\n",
    "\n",
    "totalSum = np.zeros(40)\n",
    "N = 1000  # run simulation 1000 times\n",
    "\n",
    "for n in range(0,N):\n",
    "    location,countArr = simulateMovement(100)  # play a game of 100 moves\n",
    "    totalSum += countArr\n",
    "    \n",
    "avgLanding = np.divide(totalSum,N) # average times each square is landed on in a game of 100 turns\n",
    "probs = np.divide(avgLanding,100) # probability of landing on a square\n",
    "\n",
    "\n",
    "print(\"%-25s | %s\" % (\"Location:\",\"Probability\") )\n",
    "print(\"--------------------------|--------------\")\n",
    "print(\"%-25s | %f\" % (\"Reading Railroad\", probs[5]))\n",
    "print(\"%-25s | %f\" % (\"Pensylvania Railroad\", probs[15]))\n",
    "print(\"%-25s | %f\" % (\"B&O Railroad\", probs[25]))\n",
    "print(\"%-25s | %f\" % (\"Short Line\", probs[35]))\n",
    "print(\"%-25s | %f\" % (\"GO Square\", probs[0]))\n",
    "print(\"%-25s | %f\" % (\"Mediterenean Avenue\", probs[1]))\n",
    "print(\"%-25s | %f\" % (\"Boardwalk\", probs[39]))\n"
   ]
  },
  {
   "cell_type": "markdown",
   "metadata": {},
   "source": [
    "# QUESTION 1E (ADVANCED) 1 point \n",
    "\n",
    "Write code that visualizes the board and associated probabilities in color using some kind of colormap. You can use any Python library for handling this. Some possibilities with different tradeoffs include ipythonblocks, bokeh, and PyGame. "
   ]
  },
  {
   "cell_type": "code",
   "execution_count": 15,
   "metadata": {},
   "outputs": [
    {
     "name": "stdout",
     "output_type": "stream",
     "text": [
      "This is a standard view of the board. GO is the bottom right square, jail is the bottom left, etc.\n",
      "\n",
      "White: probability=0\n",
      "Black: probability=1\n"
     ]
    },
    {
     "data": {
      "image/png": "[encoded data removed]",
      "text/plain": [
       "<Figure size 432x288 with 1 Axes>"
      ]
     },
     "metadata": {
      "needs_background": "light"
     },
     "output_type": "display_data"
    }
   ],
   "source": [
    "# YOUR CODE GOES HERE \n",
    "\n",
    "import matplotlib.pyplot as plt\n",
    "\n",
    "# for better visualization, make the maximum probability 255\n",
    "maxProb = max(probs)\n",
    "normProb = np.divide(probs,maxProb)\n",
    "normProb = np.multiply(normProb,255)\n",
    "\n",
    "board = np.zeros((11,11))\n",
    "\n",
    "bottomRow = normProb[0:11]\n",
    "bottomRow = np.flip(bottomRow)\n",
    "board[-1,:] = bottomRow\n",
    "\n",
    "leftCol = normProb[10:21]\n",
    "leftCol = np.flip(leftCol)\n",
    "board[:,0] = leftCol\n",
    "\n",
    "topRow = normProb[20:31]\n",
    "topRow = np.flip(topRow)\n",
    "board[0,:] = topRow\n",
    "\n",
    "rightCol = normProb[30:]\n",
    "rightCol = np.flip(rightCol)\n",
    "board[0:10,-1] = rightCol\n",
    "\n",
    "plt.imshow(board, cmap=\"gray\")\n",
    "\n",
    "ax = plt.gca();  # https://stackoverflow.com/questions/38973868/adjusting-gridlines-and-ticks-in-matplotlib-imshow\n",
    "ax.set_xticks(np.arange(-.5, 11, 1), minor=True);\n",
    "ax.set_yticks(np.arange(-.5, 11, 1), minor=True);\n",
    "ax.grid(which='minor', color='black', linestyle='-', linewidth=1)\n",
    "\n",
    "print(\"This is a standard view of the board. GO is the bottom right square, jail is the bottom left, etc.\\n\")\n",
    "print(\"White: probability=0\\nBlack: probability=1\")"
   ]
  },
  {
   "cell_type": "markdown",
   "metadata": {},
   "source": [
    "# QUESTION 1F (ADVANCED) (CSC421 - 0 points, CSC581C - 2 points)\n",
    "\n",
    "Implement code for handling the money aspect of monopoly and extend your simulation to handle multi-player playing by creating a very simple buying/selling AI for example randomly selecting one or the other action. \n",
    "You shoud be able to step through a fully simulated Game of Monopoly and see how everything is working. You can ignore building and assume that when a player lands in a property square they can purchase it at a predefined price and after they purchase it anyone who lands on that square pays a fixed fee. Also no need to simulate getting properties of the same color. \n",
    "\n",
    "Of course if you feel ambitious and want to do a full simulation of the actual game that's perfectly fine and \n",
    "you will not be penalized for the extra features. \n",
    "\n"
   ]
  },
  {
   "cell_type": "code",
   "execution_count": null,
   "metadata": {},
   "outputs": [],
   "source": [
    "# YOUR CODE GOES HERE "
   ]
  }
 ],
 "metadata": {
  "kernelspec": {
   "display_name": "Python 3",
   "language": "python",
   "name": "python3"
  },
  "language_info": {
   "codemirror_mode": {
    "name": "ipython",
    "version": 3
   },
   "file_extension": ".py",
   "mimetype": "text/x-python",
   "name": "python",
   "nbconvert_exporter": "python",
   "pygments_lexer": "ipython3",
   "version": "3.7.3"
  }
 },
 "nbformat": 4,
 "nbformat_minor": 1
}
